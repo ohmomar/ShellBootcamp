{
 "cells": [
  {
   "cell_type": "code",
   "execution_count": 2,
   "id": "c776da3c",
   "metadata": {},
   "outputs": [
    {
     "name": "stderr",
     "output_type": "stream",
     "text": [
      "Setting default log level to \"WARN\".\n",
      "To adjust logging level use sc.setLogLevel(newLevel). For SparkR, use setLogLevel(newLevel).\n",
      "23/09/25 05:48:10 WARN NativeCodeLoader: Unable to load native-hadoop library for your platform... using builtin-java classes where applicable\n",
      "23/09/25 05:48:12 WARN Utils: Service 'SparkUI' could not bind on port 4040. Attempting port 4041.\n",
      "                                                                                \r"
     ]
    }
   ],
   "source": [
    "import findspark\n",
    "findspark.init()\n",
    "from pyspark.sql import SparkSession\n",
    "spark=SparkSession.builder.appName(\"example\").getOrCreate()\n",
    "names_df=spark.read.option(\"header\",True).option(\"inferschema\",True).csv(\"/home/labuser/Downloads/Baby_Names.csv\")"
   ]
  },
  {
   "cell_type": "code",
   "execution_count": 3,
   "id": "07f83b90",
   "metadata": {},
   "outputs": [
    {
     "name": "stdout",
     "output_type": "stream",
     "text": [
      "+----+----------+-----------+---+-----+\n",
      "|Year|First Name|     County|Sex|Count|\n",
      "+----+----------+-----------+---+-----+\n",
      "|2007|      ZOEY|      KINGS|  F|   11|\n",
      "|2007|      ZOEY|    SUFFOLK|  F|    6|\n",
      "|2007|      ZOEY|     MONROE|  F|    6|\n",
      "|2007|      ZOEY|       ERIE|  F|    9|\n",
      "|2007|       ZOE|     ULSTER|  F|    5|\n",
      "|2007|       ZOE|WESTCHESTER|  F|   24|\n",
      "|2007|       ZOE|      BRONX|  F|   13|\n",
      "|2007|       ZOE|   NEW YORK|  F|   55|\n",
      "|2007|       ZOE|     NASSAU|  F|   15|\n",
      "|2007|       ZOE|       ERIE|  F|    6|\n",
      "|2007|       ZOE|    SUFFOLK|  F|   14|\n",
      "|2007|       ZOE|      KINGS|  F|   34|\n",
      "|2007|       ZOE|     MONROE|  F|    9|\n",
      "|2007|       ZOE|     QUEENS|  F|   26|\n",
      "|2007|       ZOE|     ALBANY|  F|    5|\n",
      "|2007|     ZISSY|   ROCKLAND|  F|    5|\n",
      "|2007|     ZISSY|      KINGS|  F|   27|\n",
      "|2007|      ZION|      KINGS|  M|   15|\n",
      "|2007|      ZION|      BRONX|  M|   14|\n",
      "|2007|       ZEV|   ROCKLAND|  M|    6|\n",
      "+----+----------+-----------+---+-----+\n",
      "only showing top 20 rows\n",
      "\n"
     ]
    }
   ],
   "source": [
    "names_df.show()"
   ]
  },
  {
   "cell_type": "code",
   "execution_count": 5,
   "id": "d9095168",
   "metadata": {},
   "outputs": [
    {
     "data": {
      "text/plain": [
       "52252"
      ]
     },
     "execution_count": 5,
     "metadata": {},
     "output_type": "execute_result"
    }
   ],
   "source": [
    "names_df.count()"
   ]
  },
  {
   "cell_type": "code",
   "execution_count": 4,
   "id": "b8fd0229",
   "metadata": {},
   "outputs": [
    {
     "name": "stderr",
     "output_type": "stream",
     "text": [
      "[Stage 3:>                                                          (0 + 1) / 1]\r"
     ]
    },
    {
     "name": "stdout",
     "output_type": "stream",
     "text": [
      "+----+-----+\n",
      "|year|count|\n",
      "+----+-----+\n",
      "|2007| 6367|\n",
      "|2013| 6158|\n",
      "|2014| 8362|\n",
      "|2012| 6164|\n",
      "|2009| 6312|\n",
      "|2010| 6192|\n",
      "|2011| 6216|\n",
      "|2008| 6481|\n",
      "+----+-----+\n",
      "\n"
     ]
    },
    {
     "name": "stderr",
     "output_type": "stream",
     "text": [
      "                                                                                \r"
     ]
    }
   ],
   "source": [
    "names_df.groupby(\"year\").count().show()"
   ]
  },
  {
   "cell_type": "code",
   "execution_count": 8,
   "id": "449c8bfb",
   "metadata": {},
   "outputs": [
    {
     "name": "stdout",
     "output_type": "stream",
     "text": [
      "+----+-----+\n",
      "|year|count|\n",
      "+----+-----+\n",
      "|2014| 8362|\n",
      "|2013| 6158|\n",
      "|2012| 6164|\n",
      "|2011| 6216|\n",
      "|2010| 6192|\n",
      "|2009| 6312|\n",
      "|2008| 6481|\n",
      "|2007| 6367|\n",
      "+----+-----+\n",
      "\n"
     ]
    }
   ],
   "source": [
    "names_df.groupby(\"year\").count().sort(names_df[(\"year\")].desc()).show()"
   ]
  },
  {
   "cell_type": "code",
   "execution_count": 16,
   "id": "40481ec3",
   "metadata": {},
   "outputs": [],
   "source": [
    "names_df.write.mode(\"overwrite\").parquet(\"/home/labuser/Downloads/babynamesparquet\")"
   ]
  },
  {
   "cell_type": "code",
   "execution_count": 17,
   "id": "5ff5a6f8",
   "metadata": {},
   "outputs": [
    {
     "name": "stderr",
     "output_type": "stream",
     "text": [
      "                                                                                \r"
     ]
    }
   ],
   "source": [
    "#partionby makes 8 different folders\n",
    "names_df.write.mode(\"overwrite\").partitionBy(\"year\").option(\"path\",\"/home/labuser/Downloads/partitionbyyeart\").saveAsTable(\"babynames_year\")"
   ]
  },
  {
   "cell_type": "code",
   "execution_count": 18,
   "id": "877d9f74",
   "metadata": {},
   "outputs": [
    {
     "name": "stdout",
     "output_type": "stream",
     "text": [
      "+----------+-----------+---+-----+----+\n",
      "|First Name|     County|Sex|Count|Year|\n",
      "+----------+-----------+---+-----+----+\n",
      "|      ZOEY|      KINGS|  F|   11|2007|\n",
      "|      ZOEY|    SUFFOLK|  F|    6|2007|\n",
      "|      ZOEY|     MONROE|  F|    6|2007|\n",
      "|      ZOEY|       ERIE|  F|    9|2007|\n",
      "|       ZOE|     ULSTER|  F|    5|2007|\n",
      "|       ZOE|WESTCHESTER|  F|   24|2007|\n",
      "|       ZOE|      BRONX|  F|   13|2007|\n",
      "|       ZOE|   NEW YORK|  F|   55|2007|\n",
      "|       ZOE|     NASSAU|  F|   15|2007|\n",
      "|       ZOE|       ERIE|  F|    6|2007|\n",
      "|       ZOE|    SUFFOLK|  F|   14|2007|\n",
      "|       ZOE|      KINGS|  F|   34|2007|\n",
      "|       ZOE|     MONROE|  F|    9|2007|\n",
      "|       ZOE|     QUEENS|  F|   26|2007|\n",
      "|       ZOE|     ALBANY|  F|    5|2007|\n",
      "|     ZISSY|   ROCKLAND|  F|    5|2007|\n",
      "|     ZISSY|      KINGS|  F|   27|2007|\n",
      "|      ZION|      KINGS|  M|   15|2007|\n",
      "|      ZION|      BRONX|  M|   14|2007|\n",
      "|       ZEV|   ROCKLAND|  M|    6|2007|\n",
      "+----------+-----------+---+-----+----+\n",
      "only showing top 20 rows\n",
      "\n"
     ]
    }
   ],
   "source": [
    "spark.sql(\"select * from babynames_year where year=2007\").show()"
   ]
  },
  {
   "cell_type": "code",
   "execution_count": 26,
   "id": "b71ce81c",
   "metadata": {},
   "outputs": [
    {
     "name": "stderr",
     "output_type": "stream",
     "text": [
      "                                                                                \r"
     ]
    }
   ],
   "source": [
    "#partionby makes 8 different folders\n",
    "names_df.write.mode(\"overwrite\").partitionBy(\"year\",\"sex\").option(\"path\",\"/home/labuser/Downloads/partitionbygendert\").saveAsTable(\"babynames_gender\")"
   ]
  },
  {
   "cell_type": "code",
   "execution_count": 27,
   "id": "61be41f7",
   "metadata": {},
   "outputs": [
    {
     "name": "stdout",
     "output_type": "stream",
     "text": [
      "+----------+------+-----+----+---+\n",
      "|First Name|County|Count|Year|Sex|\n",
      "+----------+------+-----+----+---+\n",
      "|       AVA|Albany|   23|2014|  F|\n",
      "|      EMMA|Albany|   20|2014|  F|\n",
      "|    SOPHIA|Albany|   19|2014|  F|\n",
      "|    OLIVIA|Albany|   19|2014|  F|\n",
      "|       MIA|Albany|   15|2014|  F|\n",
      "| CHARLOTTE|Albany|   15|2014|  F|\n",
      "|    AMELIA|Albany|   14|2014|  F|\n",
      "|  ISABELLA|Albany|   13|2014|  F|\n",
      "|   ABIGAIL|Albany|   12|2014|  F|\n",
      "|     CHLOE|Albany|   12|2014|  F|\n",
      "|      ELLA|Albany|   12|2014|  F|\n",
      "|      ANNA|Albany|   12|2014|  F|\n",
      "|     EMILY|Albany|   11|2014|  F|\n",
      "|     GRACE|Albany|   11|2014|  F|\n",
      "|    EVELYN|Albany|   11|2014|  F|\n",
      "|   NATALIE|Albany|   11|2014|  F|\n",
      "|   MADISON|Albany|   10|2014|  F|\n",
      "|  SCARLETT|Albany|   10|2014|  F|\n",
      "|      LILY|Albany|    9|2014|  F|\n",
      "| ELIZABETH|Albany|    8|2014|  F|\n",
      "+----------+------+-----+----+---+\n",
      "only showing top 20 rows\n",
      "\n"
     ]
    }
   ],
   "source": [
    "spark.sql(\"select * from babynames_gender \").show()"
   ]
  },
  {
   "cell_type": "code",
   "execution_count": 28,
   "id": "395d33fa",
   "metadata": {},
   "outputs": [],
   "source": [
    "df_new=spark.read.table(\"babynames_year\")"
   ]
  },
  {
   "cell_type": "code",
   "execution_count": 29,
   "id": "100ec0f3",
   "metadata": {},
   "outputs": [
    {
     "data": {
      "text/plain": [
       "DataFrame[First Name: string, County: string, Sex: string, Count: int, Year: int]"
      ]
     },
     "execution_count": 29,
     "metadata": {},
     "output_type": "execute_result"
    }
   ],
   "source": [
    "df_new"
   ]
  },
  {
   "cell_type": "code",
   "execution_count": 32,
   "id": "891b1f72",
   "metadata": {},
   "outputs": [
    {
     "name": "stderr",
     "output_type": "stream",
     "text": [
      "                                                                                \r"
     ]
    }
   ],
   "source": [
    "#each parquet file creaTED WITH 4K RECORDS\n",
    "names_df.write.mode(\"overwrite\").option(\"maxRexcordsPerFile\",4000).partitionBy(\"year\",\"sex\").option(\"path\",\"/home/labuser/Downloads/partitionbygendert_4k\").saveAsTable(\"babynames_gender_max4k\")"
   ]
  },
  {
   "cell_type": "code",
   "execution_count": null,
   "id": "286a473d",
   "metadata": {},
   "outputs": [],
   "source": []
  }
 ],
 "metadata": {
  "kernelspec": {
   "display_name": "Python 3 (ipykernel)",
   "language": "python",
   "name": "python3"
  },
  "language_info": {
   "codemirror_mode": {
    "name": "ipython",
    "version": 3
   },
   "file_extension": ".py",
   "mimetype": "text/x-python",
   "name": "python",
   "nbconvert_exporter": "python",
   "pygments_lexer": "ipython3",
   "version": "3.11.4"
  }
 },
 "nbformat": 4,
 "nbformat_minor": 5
}
