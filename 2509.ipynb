{
 "cells": [
  {
   "cell_type": "code",
   "execution_count": 2,
   "id": "3024c303",
   "metadata": {},
   "outputs": [
    {
     "name": "stderr",
     "output_type": "stream",
     "text": [
      "Setting default log level to \"WARN\".\n",
      "To adjust logging level use sc.setLogLevel(newLevel). For SparkR, use setLogLevel(newLevel).\n",
      "23/09/25 03:53:24 WARN NativeCodeLoader: Unable to load native-hadoop library for your platform... using builtin-java classes where applicable\n"
     ]
    }
   ],
   "source": [
    "\n",
    "import findspark\n",
    "findspark.init()\n",
    "from pyspark.sql import SparkSession\n",
    "spark=SparkSession.builder.appName(\"example\").getOrCreate()\n",
    "import datetime\n",
    "from pyspark.sql import Row\n",
    "\n",
    "users = [\n",
    "\n",
    "    {\n",
    "\n",
    "        \"id\": 1,\n",
    "\n",
    "        \"first_name\": \"Corrie\",\n",
    "\n",
    "        \"last_name\": \"Van den Oord\",\n",
    "\n",
    "        \"email\": \"cvandenoord0@etsy.com\",\n",
    "\n",
    "        \"gender\": \"male\",\n",
    "\n",
    "        \"current_city\": \"Dallas\",\n",
    "\n",
    "        \"phone_numbers\": Row(mobile=\"+1 234 567 8901\", home=\"+1 234 567 8911\"),\n",
    "\n",
    "        \"courses\": [1, 2],\n",
    "\n",
    "        \"is_customer\": True,\n",
    "\n",
    "        \"amount_paid\": 1000.55,\n",
    "\n",
    "        \"customer_from\": datetime.date(2021, 1, 15),\n",
    "\n",
    "        \"last_updated_ts\": datetime.datetime(2021, 2, 10, 1, 15, 0)\n",
    "\n",
    "    },\n",
    "\n",
    "    {\n",
    "\n",
    "        \"id\": 2,\n",
    "\n",
    "        \"first_name\": \"Nikolaus\",\n",
    "\n",
    "        \"last_name\": \"Brewitt\",\n",
    "\n",
    "        \"email\": \"nbrewitt1@dailymail.co.uk\",\n",
    "\n",
    "        \"gender\": \"male\",\n",
    "\n",
    "        \"current_city\": \"Houston\",\n",
    "\n",
    "        \"phone_numbers\":  Row(mobile=\"+1 234 567 8923\", home=\"1 234 567 8934\"),\n",
    "\n",
    "        \"courses\": [3],\n",
    "\n",
    "        \"is_customer\": True,\n",
    "\n",
    "        \"amount_paid\": 900.0,\n",
    "\n",
    "        \"customer_from\": datetime.date(2021, 2, 14),\n",
    "\n",
    "        \"last_updated_ts\": datetime.datetime(2021, 2, 18, 3, 33, 0)\n",
    "\n",
    "    },\n",
    "\n",
    "    {\n",
    "\n",
    "        \"id\": 3,\n",
    "\n",
    "        \"first_name\": \"Orelie\",\n",
    "\n",
    "        \"last_name\": \"Penney\",\n",
    "\n",
    "        \"email\": \"openney2@vistaprint.com\",\n",
    "\n",
    "        \"gender\": \"female\",\n",
    "\n",
    "        \"current_city\": \"\",\n",
    "\n",
    "        \"phone_numbers\": Row(mobile=\"+1 714 512 9752\", home=\"+1 714 512 6601\"),\n",
    "\n",
    "        \"courses\": [2, 4],\n",
    "\n",
    "        \"is_customer\": True,\n",
    "\n",
    "        \"amount_paid\": 850.55,\n",
    "\n",
    "        \"customer_from\": datetime.date(2021, 1, 21),\n",
    "\n",
    "        \"last_updated_ts\": datetime.datetime(2021, 3, 15, 15, 16, 55)\n",
    "\n",
    "    },\n",
    "\n",
    "    {\n",
    "\n",
    "        \"id\": 4,\n",
    "\n",
    "        \"first_name\": \"Ashby\",\n",
    "\n",
    "        \"last_name\": \"Maddocks\",\n",
    "\n",
    "        \"email\": \"amaddocks3@home.pl\",\n",
    "\n",
    "        \"gender\": \"male\",\n",
    "\n",
    "        \"current_city\": \"San Fransisco\",\n",
    "\n",
    "        \"phone_numbers\": Row(mobile=None, home=None),\n",
    "\n",
    "        \"courses\": [],\n",
    "\n",
    "        \"is_customer\": False,\n",
    "\n",
    "        \"amount_paid\": None,\n",
    "\n",
    "        \"customer_from\": None,\n",
    "\n",
    "        \"last_updated_ts\": datetime.datetime(2021, 4, 10, 17, 45, 30)\n",
    "\n",
    "    },\n",
    "\n",
    "    {\n",
    "\n",
    "        \"id\": 5,\n",
    "\n",
    "        \"first_name\": \"Kurt\",\n",
    "\n",
    "        \"last_name\": \"Rome\",\n",
    "\n",
    "        \"email\": \"krome4@shutterfly.com\",\n",
    "\n",
    "        \"gender\": \"female\",\n",
    "\n",
    "        \"current_city\": None,\n",
    "\n",
    "        \"phone_numbers\": Row(mobile=\"+1 817 934 7142\", home=None),\n",
    "\n",
    "        \"courses\": [],\n",
    "\n",
    "        \"is_customer\": False,\n",
    "\n",
    "        \"amount_paid\": None,\n",
    "\n",
    "        \"customer_from\": None,\n",
    "\n",
    "        \"last_updated_ts\": datetime.datetime(2021, 4, 2, 0, 55, 18)\n",
    "\n",
    "    }\n",
    "\n",
    "]"
   ]
  },
  {
   "cell_type": "code",
   "execution_count": 4,
   "id": "25f7f2a7",
   "metadata": {},
   "outputs": [],
   "source": [
    "df=spark.createDataFrame(users)"
   ]
  },
  {
   "cell_type": "code",
   "execution_count": 5,
   "id": "dc472fdf",
   "metadata": {},
   "outputs": [
    {
     "name": "stderr",
     "output_type": "stream",
     "text": [
      "                                                                                \r"
     ]
    },
    {
     "name": "stdout",
     "output_type": "stream",
     "text": [
      "+-----------+-------+-------------+-------------+--------------------+----------+------+---+-----------+------------+-------------------+--------------------+\n",
      "|amount_paid|courses| current_city|customer_from|               email|first_name|gender| id|is_customer|   last_name|    last_updated_ts|       phone_numbers|\n",
      "+-----------+-------+-------------+-------------+--------------------+----------+------+---+-----------+------------+-------------------+--------------------+\n",
      "|    1000.55| [1, 2]|       Dallas|   2021-01-15|cvandenoord0@etsy...|    Corrie|  male|  1|       true|Van den Oord|2021-02-10 01:15:00|{+1 234 567 8901,...|\n",
      "|      900.0|    [3]|      Houston|   2021-02-14|nbrewitt1@dailyma...|  Nikolaus|  male|  2|       true|     Brewitt|2021-02-18 03:33:00|{+1 234 567 8923,...|\n",
      "|     850.55| [2, 4]|             |   2021-01-21|openney2@vistapri...|    Orelie|female|  3|       true|      Penney|2021-03-15 15:16:55|{+1 714 512 9752,...|\n",
      "|       null|     []|San Fransisco|         null|  amaddocks3@home.pl|     Ashby|  male|  4|      false|    Maddocks|2021-04-10 17:45:30|        {null, null}|\n",
      "|       null|     []|         null|         null|krome4@shutterfly...|      Kurt|female|  5|      false|        Rome|2021-04-02 00:55:18|{+1 817 934 7142,...|\n",
      "+-----------+-------+-------------+-------------+--------------------+----------+------+---+-----------+------------+-------------------+--------------------+\n",
      "\n"
     ]
    }
   ],
   "source": [
    "df.show()"
   ]
  },
  {
   "cell_type": "code",
   "execution_count": 7,
   "id": "327e9ed9",
   "metadata": {},
   "outputs": [
    {
     "name": "stdout",
     "output_type": "stream",
     "text": [
      "+---+-------------+-------------+\n",
      "| id| current_city|customer_from|\n",
      "+---+-------------+-------------+\n",
      "|  1|       Dallas|   2021-01-15|\n",
      "|  2|      Houston|   2021-02-14|\n",
      "|  3|             |   2021-01-21|\n",
      "|  4|San Fransisco|         null|\n",
      "|  5|         null|         null|\n",
      "+---+-------------+-------------+\n",
      "\n"
     ]
    }
   ],
   "source": [
    "df.select(\"id\",\"current_city\",\"customer_from\").show()"
   ]
  },
  {
   "cell_type": "code",
   "execution_count": 9,
   "id": "ac793f75",
   "metadata": {},
   "outputs": [],
   "source": [
    "#get all users whose city is not null\n",
    "from pyspark.sql.functions import*\n"
   ]
  },
  {
   "cell_type": "code",
   "execution_count": 13,
   "id": "37863586",
   "metadata": {},
   "outputs": [
    {
     "name": "stdout",
     "output_type": "stream",
     "text": [
      "+---+-------------+\n",
      "| id| current_city|\n",
      "+---+-------------+\n",
      "|  1|       Dallas|\n",
      "|  2|      Houston|\n",
      "|  3|             |\n",
      "|  4|San Fransisco|\n",
      "+---+-------------+\n",
      "\n"
     ]
    }
   ],
   "source": [
    "df.select(\"id\",\"current_city\").filter(col(\"current_city\").isNotNull()).show()#dataframe style"
   ]
  },
  {
   "cell_type": "code",
   "execution_count": 12,
   "id": "fcdcd035",
   "metadata": {},
   "outputs": [
    {
     "name": "stdout",
     "output_type": "stream",
     "text": [
      "+---+-------------+\n",
      "| id| current_city|\n",
      "+---+-------------+\n",
      "|  1|       Dallas|\n",
      "|  2|      Houston|\n",
      "|  3|             |\n",
      "|  4|San Fransisco|\n",
      "+---+-------------+\n",
      "\n"
     ]
    }
   ],
   "source": [
    "df\\#sql style\n",
    ".select(\"id\",\"current_city\")\\\n",
    ".where('current_city IS NOT NULL')\\\n",
    ".show()"
   ]
  },
  {
   "cell_type": "code",
   "execution_count": 16,
   "id": "fe66826b",
   "metadata": {},
   "outputs": [
    {
     "name": "stdout",
     "output_type": "stream",
     "text": [
      "+---+-------------+\n",
      "| id|customer_from|\n",
      "+---+-------------+\n",
      "|  4|         null|\n",
      "|  5|         null|\n",
      "+---+-------------+\n",
      "\n"
     ]
    }
   ],
   "source": [
    "df\\\n",
    ".select(\"id\",\"customer_from\")\\\n",
    ".where('customer_from IS NULL')\\\n",
    ".show()"
   ]
  },
  {
   "cell_type": "code",
   "execution_count": 22,
   "id": "7271bf2c",
   "metadata": {},
   "outputs": [
    {
     "name": "stdout",
     "output_type": "stream",
     "text": [
      "+---+-------------+-------------+\n",
      "| id| current_city|customer_from|\n",
      "+---+-------------+-------------+\n",
      "|  5|         null|         null|\n",
      "|  3|             |   2021-01-21|\n",
      "|  1|       Dallas|   2021-01-15|\n",
      "|  2|      Houston|   2021-02-14|\n",
      "|  4|San Fransisco|         null|\n",
      "+---+-------------+-------------+\n",
      "\n"
     ]
    }
   ],
   "source": [
    "df.select(\"id\",\"current_city\",\"customer_from\").orderBy(\"current_city\").show()"
   ]
  },
  {
   "cell_type": "code",
   "execution_count": 23,
   "id": "4123ce43",
   "metadata": {},
   "outputs": [
    {
     "name": "stdout",
     "output_type": "stream",
     "text": [
      "+---+-------------+-------------+\n",
      "| id| current_city|customer_from|\n",
      "+---+-------------+-------------+\n",
      "|  2|      Houston|   2021-02-14|\n",
      "|  3|             |   2021-01-21|\n",
      "|  1|       Dallas|   2021-01-15|\n",
      "|  4|San Fransisco|         null|\n",
      "|  5|         null|         null|\n",
      "+---+-------------+-------------+\n",
      "\n"
     ]
    }
   ],
   "source": [
    "#sort the data in asc order by customer _from with null values should come at end\n",
    "df.select(\"id\",\"current_city\",\"customer_from\").orderBy(\"customer_from\",ascending=False).show()\n"
   ]
  },
  {
   "cell_type": "code",
   "execution_count": 26,
   "id": "9b41f380",
   "metadata": {},
   "outputs": [
    {
     "name": "stdout",
     "output_type": "stream",
     "text": [
      "+---+-------------+-------------+\n",
      "| id| current_city|customer_from|\n",
      "+---+-------------+-------------+\n",
      "|  1|       Dallas|   2021-01-15|\n",
      "|  3|             |   2021-01-21|\n",
      "|  2|      Houston|   2021-02-14|\n",
      "|  4|San Fransisco|         null|\n",
      "|  5|         null|         null|\n",
      "+---+-------------+-------------+\n",
      "\n"
     ]
    }
   ],
   "source": [
    "df.select(\"id\",\"current_city\",\"customer_from\").orderBy(df[\"customer_from\"].asc_nulls_last()).show()"
   ]
  },
  {
   "cell_type": "code",
   "execution_count": 27,
   "id": "2058c334",
   "metadata": {},
   "outputs": [],
   "source": [
    "\n",
    "#2nd dataset\n",
    "zipdf=spark.read.option(\"header\",True).option(\"inferschema\",True).csv(\"/home/labuser/Downloads/zipcode.csv\")"
   ]
  },
  {
   "cell_type": "code",
   "execution_count": 28,
   "id": "bd3d9610",
   "metadata": {},
   "outputs": [
    {
     "name": "stdout",
     "output_type": "stream",
     "text": [
      "+---+-------+--------+-------------------+-----+----------+\n",
      "| id|zipcode|    type|               city|state|population|\n",
      "+---+-------+--------+-------------------+-----+----------+\n",
      "|  1|    704|STANDARD|               null|   PR|     30100|\n",
      "|  2|    704|    null|PASEO COSTA DEL SUR|   PR|      null|\n",
      "|  3|    709|    null|       BDA SAN LUIS|   PR|      3700|\n",
      "|  4|  76166|  UNIQUE|  CINGULAR WIRELESS|   TX|     84000|\n",
      "|  5|  76177|STANDARD|               null|   TX|      null|\n",
      "|  1|    704|STANDARD|               null|   PR|     30100|\n",
      "|  1|    704|STANDARD|               null|   PR|     30100|\n",
      "+---+-------+--------+-------------------+-----+----------+\n",
      "\n"
     ]
    }
   ],
   "source": [
    "zipdf.show()"
   ]
  },
  {
   "cell_type": "code",
   "execution_count": 29,
   "id": "bfb82233",
   "metadata": {},
   "outputs": [],
   "source": [
    "#remove duplicates dataframe function\n",
    "df2=zipdf.dropDuplicates()"
   ]
  },
  {
   "cell_type": "code",
   "execution_count": 37,
   "id": "de35038c",
   "metadata": {},
   "outputs": [
    {
     "name": "stdout",
     "output_type": "stream",
     "text": [
      "+---+-------+--------+-------------------+-----+----------+\n",
      "| id|zipcode|    type|               city|state|population|\n",
      "+---+-------+--------+-------------------+-----+----------+\n",
      "|  2|    704|    null|PASEO COSTA DEL SUR|   PR|      null|\n",
      "|  5|  76177|STANDARD|               null|   TX|      null|\n",
      "|  3|    709|    null|       BDA SAN LUIS|   PR|      3700|\n",
      "|  1|    704|STANDARD|               null|   PR|     30100|\n",
      "|  4|  76166|  UNIQUE|  CINGULAR WIRELESS|   TX|     84000|\n",
      "+---+-------+--------+-------------------+-----+----------+\n",
      "\n"
     ]
    }
   ],
   "source": [
    "df2.show()"
   ]
  },
  {
   "cell_type": "code",
   "execution_count": 38,
   "id": "bdc1e2b9",
   "metadata": {},
   "outputs": [
    {
     "name": "stdout",
     "output_type": "stream",
     "text": [
      "+---+-------+--------+-----------------+-----+----------+\n",
      "| id|zipcode|    type|             city|state|population|\n",
      "+---+-------+--------+-----------------+-----+----------+\n",
      "|  1|    704|STANDARD|             null|   PR|     30100|\n",
      "|  3|    709|    null|     BDA SAN LUIS|   PR|      3700|\n",
      "|  4|  76166|  UNIQUE|CINGULAR WIRELESS|   TX|     84000|\n",
      "|  5|  76177|STANDARD|             null|   TX|      null|\n",
      "+---+-------+--------+-----------------+-----+----------+\n",
      "\n"
     ]
    }
   ],
   "source": [
    "zipdf1=zipdf.dropDuplicates([\"zipcode\"]).show()"
   ]
  },
  {
   "cell_type": "code",
   "execution_count": 41,
   "id": "4c0b21bc",
   "metadata": {},
   "outputs": [
    {
     "name": "stdout",
     "output_type": "stream",
     "text": [
      "+---+-------+--------+-------------------+-----+----------+\n",
      "| id|zipcode|    type|               city|state|population|\n",
      "+---+-------+--------+-------------------+-----+----------+\n",
      "|  2|    704|    null|PASEO COSTA DEL SUR|   PR|      null|\n",
      "|  5|  76177|STANDARD|               null|   TX|      null|\n",
      "|  3|    709|    null|       BDA SAN LUIS|   PR|      3700|\n",
      "|  1|    704|STANDARD|               null|   PR|     30100|\n",
      "|  4|  76166|  UNIQUE|  CINGULAR WIRELESS|   TX|     84000|\n",
      "+---+-------+--------+-------------------+-----+----------+\n",
      "\n"
     ]
    }
   ],
   "source": [
    "df2.show()"
   ]
  },
  {
   "cell_type": "code",
   "execution_count": 43,
   "id": "c51a20d1",
   "metadata": {},
   "outputs": [
    {
     "name": "stdout",
     "output_type": "stream",
     "text": [
      "+---+-------+------+-----------------+-----+----------+\n",
      "| id|zipcode|  type|             city|state|population|\n",
      "+---+-------+------+-----------------+-----+----------+\n",
      "|  4|  76166|UNIQUE|CINGULAR WIRELESS|   TX|     84000|\n",
      "+---+-------+------+-----------------+-----+----------+\n",
      "\n"
     ]
    }
   ],
   "source": [
    "df2.dropna().show()"
   ]
  },
  {
   "cell_type": "code",
   "execution_count": 44,
   "id": "587df119",
   "metadata": {},
   "outputs": [
    {
     "name": "stdout",
     "output_type": "stream",
     "text": [
      "+---+-------+--------+-------------------+-----+----------+\n",
      "| id|zipcode|    type|               city|state|population|\n",
      "+---+-------+--------+-------------------+-----+----------+\n",
      "|  2|    704|    null|PASEO COSTA DEL SUR|   PR|      null|\n",
      "|  5|  76177|STANDARD|               null|   TX|      null|\n",
      "|  3|    709|    null|       BDA SAN LUIS|   PR|      3700|\n",
      "|  1|    704|STANDARD|               null|   PR|     30100|\n",
      "|  4|  76166|  UNIQUE|  CINGULAR WIRELESS|   TX|     84000|\n",
      "+---+-------+--------+-------------------+-----+----------+\n",
      "\n"
     ]
    }
   ],
   "source": [
    "df2.dropna(\"all\").show()#delete rows which have all null values"
   ]
  },
  {
   "cell_type": "code",
   "execution_count": 48,
   "id": "80c6932c",
   "metadata": {},
   "outputs": [
    {
     "name": "stdout",
     "output_type": "stream",
     "text": [
      "+---+-------+--------+-----------------+-----+----------+\n",
      "| id|zipcode|    type|             city|state|population|\n",
      "+---+-------+--------+-----------------+-----+----------+\n",
      "|  5|  76177|STANDARD|             null|   TX|      null|\n",
      "|  1|    704|STANDARD|             null|   PR|     30100|\n",
      "|  4|  76166|  UNIQUE|CINGULAR WIRELESS|   TX|     84000|\n",
      "+---+-------+--------+-----------------+-----+----------+\n",
      "\n"
     ]
    }
   ],
   "source": [
    "df2.dropna(\"all\",subset=\"type\").show()#means it will remove nulls in type column this is a subset parameter"
   ]
  },
  {
   "cell_type": "code",
   "execution_count": 49,
   "id": "eeef0cbf",
   "metadata": {},
   "outputs": [
    {
     "name": "stdout",
     "output_type": "stream",
     "text": [
      "+---+-------+--------+-----------------+-----+----------+\n",
      "| id|zipcode|    type|             city|state|population|\n",
      "+---+-------+--------+-----------------+-----+----------+\n",
      "|  3|    709|    null|     BDA SAN LUIS|   PR|      3700|\n",
      "|  1|    704|STANDARD|             null|   PR|     30100|\n",
      "|  4|  76166|  UNIQUE|CINGULAR WIRELESS|   TX|     84000|\n",
      "+---+-------+--------+-----------------+-----+----------+\n",
      "\n"
     ]
    }
   ],
   "source": [
    "df2.dropna(\"all\",subset=\"population\").show()"
   ]
  },
  {
   "cell_type": "code",
   "execution_count": 50,
   "id": "ff28fc32",
   "metadata": {},
   "outputs": [
    {
     "name": "stdout",
     "output_type": "stream",
     "text": [
      "+---+-------+--------+-----------------+-----+----------+\n",
      "| id|zipcode|    type|             city|state|population|\n",
      "+---+-------+--------+-----------------+-----+----------+\n",
      "|  3|    709|    null|     BDA SAN LUIS|   PR|      3700|\n",
      "|  1|    704|STANDARD|             null|   PR|     30100|\n",
      "|  4|  76166|  UNIQUE|CINGULAR WIRELESS|   TX|     84000|\n",
      "+---+-------+--------+-----------------+-----+----------+\n",
      "\n"
     ]
    }
   ],
   "source": [
    "df2.na.drop(thresh=5).show()"
   ]
  },
  {
   "cell_type": "code",
   "execution_count": 51,
   "id": "1b9b9870",
   "metadata": {},
   "outputs": [
    {
     "name": "stdout",
     "output_type": "stream",
     "text": [
      "+---+-------+--------+-------------------+-----+----------+\n",
      "| id|zipcode|    type|               city|state|population|\n",
      "+---+-------+--------+-------------------+-----+----------+\n",
      "|  2|    704|    null|PASEO COSTA DEL SUR|   PR|         1|\n",
      "|  5|  76177|STANDARD|               null|   TX|         1|\n",
      "|  3|    709|    null|       BDA SAN LUIS|   PR|      3700|\n",
      "|  1|    704|STANDARD|               null|   PR|     30100|\n",
      "|  4|  76166|  UNIQUE|  CINGULAR WIRELESS|   TX|     84000|\n",
      "+---+-------+--------+-------------------+-----+----------+\n",
      "\n"
     ]
    }
   ],
   "source": [
    "df2.fillna(value=1).show()"
   ]
  },
  {
   "cell_type": "code",
   "execution_count": 54,
   "id": "07091e46",
   "metadata": {},
   "outputs": [
    {
     "name": "stdout",
     "output_type": "stream",
     "text": [
      "+---+-------+--------+-------------------+-----+----------+\n",
      "| id|zipcode|    type|               city|state|population|\n",
      "+---+-------+--------+-------------------+-----+----------+\n",
      "|  2|    704|STANDARD|PASEO COSTA DEL SUR|   PR|      null|\n",
      "|  5|  76177|STANDARD|               null|   TX|      null|\n",
      "|  3|    709|STANDARD|       BDA SAN LUIS|   PR|      3700|\n",
      "|  1|    704|STANDARD|               null|   PR|     30100|\n",
      "|  4|  76166|  UNIQUE|  CINGULAR WIRELESS|   TX|     84000|\n",
      "+---+-------+--------+-------------------+-----+----------+\n",
      "\n"
     ]
    }
   ],
   "source": [
    "df2.fillna(value=\"STANDARD\",subset=[\"type\"]).show()#filling null values"
   ]
  },
  {
   "cell_type": "code",
   "execution_count": 55,
   "id": "e9d99b2c",
   "metadata": {},
   "outputs": [
    {
     "name": "stdout",
     "output_type": "stream",
     "text": [
      "+---+-------+--------+-------------------+-----+----------+\n",
      "| id|zipcode|    type|               city|state|population|\n",
      "+---+-------+--------+-------------------+-----+----------+\n",
      "|  2|    704|     VIP|PASEO COSTA DEL SUR|   PR|    300000|\n",
      "|  5|  76177|STANDARD|             Mumbai|   TX|    300000|\n",
      "|  3|    709|     VIP|       BDA SAN LUIS|   PR|      3700|\n",
      "|  1|    704|STANDARD|             Mumbai|   PR|     30100|\n",
      "|  4|  76166|  UNIQUE|  CINGULAR WIRELESS|   TX|     84000|\n",
      "+---+-------+--------+-------------------+-----+----------+\n",
      "\n"
     ]
    }
   ],
   "source": [
    "df2.fillna({\"type\":\"VIP\",\"City\":\"Mumbai\",\"population\":300000}).show()"
   ]
  },
  {
   "cell_type": "code",
   "execution_count": null,
   "id": "a9277c52",
   "metadata": {},
   "outputs": [],
   "source": [
    "#replace removes empty values not null"
   ]
  },
  {
   "cell_type": "code",
   "execution_count": null,
   "id": "f490b538",
   "metadata": {},
   "outputs": [],
   "source": []
  }
 ],
 "metadata": {
  "kernelspec": {
   "display_name": "Python 3 (ipykernel)",
   "language": "python",
   "name": "python3"
  },
  "language_info": {
   "codemirror_mode": {
    "name": "ipython",
    "version": 3
   },
   "file_extension": ".py",
   "mimetype": "text/x-python",
   "name": "python",
   "nbconvert_exporter": "python",
   "pygments_lexer": "ipython3",
   "version": "3.11.4"
  }
 },
 "nbformat": 4,
 "nbformat_minor": 5
}
