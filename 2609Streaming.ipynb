{
 "cells": [
  {
   "cell_type": "code",
   "execution_count": 0,
   "metadata": {
    "application/vnd.databricks.v1+cell": {
     "cellMetadata": {
      "byteLimit": 2048000,
      "rowLimit": 10000
     },
     "inputWidgets": {},
     "nuid": "92f41c35-e2c1-40d3-8347-9fea7682451e",
     "showTitle": false,
     "title": ""
    }
   },
   "outputs": [
    {
     "output_type": "execute_result",
     "data": {
      "text/plain": [
       "True"
      ]
     },
     "execution_count": 1,
     "metadata": {},
     "output_type": "execute_result"
    }
   ],
   "source": [
    "dbutils.fs.mount(\n",
    "  source = \"wasbs://inputfiles@saunext.blob.core.windows.net\",\n",
    "  mount_point = \"/mnt/saunext/inputfiles\",\n",
    "  extra_configs = {\"fs.azure.account.key.saunext.blob.core.windows.net\":\"UUDMjjk8JYIiTwHNyh8WCs3BShkfIL//HM/cUrbOrRmUH+HaoR/J5bM9MlWTYefbkqNo/bQzgs1M+AStEn3dkA==\"})"
   ]
  },
  {
   "cell_type": "code",
   "execution_count": 0,
   "metadata": {
    "application/vnd.databricks.v1+cell": {
     "cellMetadata": {
      "byteLimit": 2048000,
      "rowLimit": 10000
     },
     "inputWidgets": {},
     "nuid": "130ed053-f992-4cda-ad98-2fd90562e285",
     "showTitle": false,
     "title": ""
    }
   },
   "outputs": [],
   "source": [
    "users_sch=\"timestamp timestamp, event_type string, user_id string, page_id string\""
   ]
  },
  {
   "cell_type": "code",
   "execution_count": 0,
   "metadata": {
    "application/vnd.databricks.v1+cell": {
     "cellMetadata": {
      "byteLimit": 2048000,
      "rowLimit": 10000
     },
     "inputWidgets": {},
     "nuid": "cc6a499d-25df-4e20-aca5-b80f561f8482",
     "showTitle": false,
     "title": ""
    }
   },
   "outputs": [],
   "source": [
    "df=spark.readStream.schema(users_sch).json(\"dbfs:/mnt/saunext/inputfiles/inputstream/\")"
   ]
  },
  {
   "cell_type": "code",
   "execution_count": 0,
   "metadata": {
    "application/vnd.databricks.v1+cell": {
     "cellMetadata": {
      "byteLimit": 2048000,
      "rowLimit": 10000
     },
     "inputWidgets": {},
     "nuid": "098d732c-25ba-49ed-ab2d-41d6b1f286e3",
     "showTitle": false,
     "title": ""
    }
   },
   "outputs": [
    {
     "output_type": "display_data",
     "data": {
      "text/html": [
       "<style scoped>\n",
       "  .table-result-container {\n",
       "    max-height: 300px;\n",
       "    overflow: auto;\n",
       "  }\n",
       "  table, th, td {\n",
       "    border: 1px solid black;\n",
       "    border-collapse: collapse;\n",
       "  }\n",
       "  th, td {\n",
       "    padding: 5px;\n",
       "  }\n",
       "  th {\n",
       "    text-align: left;\n",
       "  }\n",
       "</style><div class='table-result-container'><table class='table-result'><thead style='background-color: white'><tr><th>timestamp</th><th>event_type</th><th>user_id</th><th>page_id</th></tr></thead><tbody><tr><td>2023-07-01T10:15:00.000+0000</td><td>login</td><td>user1</td><td>null</td></tr><tr><td>2023-07-02T10:20:00.000+0000</td><td>logout</td><td>user2</td><td>null</td></tr><tr><td>2023-07-03T10:25:00.000+0000</td><td>page_view</td><td>user1</td><td>page123</td></tr><tr><td>2023-07-04T10:30:00.000+0000</td><td>login</td><td>user3</td><td>null</td></tr><tr><td>2023-07-05T10:35:00.000+0000</td><td>page_view</td><td>user2</td><td>page456</td></tr><tr><td>2023-07-06T10:40:00.000+0000</td><td>logout</td><td>user3</td><td>null</td></tr><tr><td>2023-07-07T10:45:00.000+0000</td><td>page_view</td><td>user1</td><td>page789</td></tr><tr><td>2023-07-08T10:50:00.000+0000</td><td>login</td><td>user2</td><td>null</td></tr><tr><td>2023-07-09T10:55:00.000+0000</td><td>logout</td><td>user1</td><td>null</td></tr><tr><td>2023-07-10T11:00:00.000+0000</td><td>page_view</td><td>user2</td><td>page101</td></tr><tr><td>2023-07-11T11:05:00.000+0000</td><td>login</td><td>user1</td><td>null</td></tr><tr><td>2023-07-12T11:10:00.000+0000</td><td>page_view</td><td>user3</td><td>page222</td></tr><tr><td>2023-07-13T11:15:00.000+0000</td><td>login</td><td>user4</td><td>null</td></tr><tr><td>2023-07-14T11:20:00.000+0000</td><td>logout</td><td>user2</td><td>null</td></tr><tr><td>2023-07-15T11:25:00.000+0000</td><td>page_view</td><td>user1</td><td>page333</td></tr><tr><td>2023-07-16T11:30:00.000+0000</td><td>login</td><td>user4</td><td>null</td></tr><tr><td>2023-07-17T11:35:00.000+0000</td><td>page_view</td><td>user2</td><td>page444</td></tr><tr><td>2023-07-18T11:40:00.000+0000</td><td>logout</td><td>user3</td><td>null</td></tr><tr><td>2023-07-19T11:45:00.000+0000</td><td>page_view</td><td>user1</td><td>page555</td></tr><tr><td>2023-07-20T11:50:00.000+0000</td><td>login</td><td>user2</td><td>null</td></tr><tr><td>2023-07-21T11:55:00.000+0000</td><td>logout</td><td>user1</td><td>null</td></tr><tr><td>2023-07-22T12:00:00.000+0000</td><td>page_view</td><td>user2</td><td>page666</td></tr><tr><td>2023-07-23T12:05:00.000+0000</td><td>login</td><td>user1</td><td>null</td></tr><tr><td>2023-07-24T12:10:00.000+0000</td><td>page_view</td><td>user3</td><td>page777</td></tr><tr><td>2023-07-25T12:15:00.000+0000</td><td>login</td><td>user4</td><td>null</td></tr><tr><td>2023-07-26T12:20:00.000+0000</td><td>logout</td><td>user2</td><td>null</td></tr><tr><td>2023-07-27T12:25:00.000+0000</td><td>page_view</td><td>user1</td><td>page888</td></tr><tr><td>2023-07-28T12:30:00.000+0000</td><td>login</td><td>user2</td><td>null</td></tr><tr><td>2023-07-29T12:35:00.000+0000</td><td>logout</td><td>user1</td><td>null</td></tr><tr><td>2023-07-30T12:40:00.000+0000</td><td>page_view</td><td>user2</td><td>page999</td></tr><tr><td>2023-08-01T10:15:00.000+0000</td><td>login</td><td>user1</td><td>null</td></tr><tr><td>2023-08-02T10:20:00.000+0000</td><td>logout</td><td>user2</td><td>null</td></tr><tr><td>2023-08-03T10:25:00.000+0000</td><td>page_view</td><td>user1</td><td>page123</td></tr><tr><td>2023-08-04T10:30:00.000+0000</td><td>login</td><td>user3</td><td>null</td></tr><tr><td>2023-08-05T10:35:00.000+0000</td><td>page_view</td><td>user2</td><td>page456</td></tr><tr><td>2023-08-06T10:40:00.000+0000</td><td>logout</td><td>user3</td><td>null</td></tr><tr><td>2023-08-07T10:45:00.000+0000</td><td>page_view</td><td>user1</td><td>page789</td></tr><tr><td>2023-08-08T10:50:00.000+0000</td><td>login</td><td>user2</td><td>null</td></tr><tr><td>2023-08-09T10:55:00.000+0000</td><td>logout</td><td>user1</td><td>null</td></tr><tr><td>2023-08-10T11:00:00.000+0000</td><td>page_view</td><td>user2</td><td>page101</td></tr><tr><td>2023-08-11T11:05:00.000+0000</td><td>login</td><td>user1</td><td>null</td></tr><tr><td>2023-08-12T11:10:00.000+0000</td><td>page_view</td><td>user3</td><td>page222</td></tr><tr><td>2023-08-13T11:15:00.000+0000</td><td>login</td><td>user4</td><td>null</td></tr><tr><td>2023-08-14T11:20:00.000+0000</td><td>logout</td><td>user2</td><td>null</td></tr><tr><td>2023-08-15T11:25:00.000+0000</td><td>page_view</td><td>user1</td><td>page333</td></tr><tr><td>2023-08-16T11:30:00.000+0000</td><td>login</td><td>user4</td><td>null</td></tr><tr><td>2023-08-17T11:35:00.000+0000</td><td>page_view</td><td>user2</td><td>page444</td></tr><tr><td>2023-08-18T11:40:00.000+0000</td><td>logout</td><td>user3</td><td>null</td></tr><tr><td>2023-08-19T11:45:00.000+0000</td><td>page_view</td><td>user1</td><td>page555</td></tr><tr><td>2023-08-20T11:50:00.000+0000</td><td>login</td><td>user2</td><td>null</td></tr><tr><td>2023-08-21T11:55:00.000+0000</td><td>logout</td><td>user1</td><td>null</td></tr><tr><td>2023-08-22T12:00:00.000+0000</td><td>page_view</td><td>user2</td><td>page666</td></tr><tr><td>2023-08-23T12:05:00.000+0000</td><td>login</td><td>user1</td><td>null</td></tr><tr><td>2023-08-24T12:10:00.000+0000</td><td>page_view</td><td>user3</td><td>page777</td></tr><tr><td>2023-08-25T12:15:00.000+0000</td><td>login</td><td>user4</td><td>null</td></tr><tr><td>2023-08-26T12:20:00.000+0000</td><td>logout</td><td>user2</td><td>null</td></tr><tr><td>2023-08-27T12:25:00.000+0000</td><td>page_view</td><td>user1</td><td>page888</td></tr><tr><td>2023-08-28T12:30:00.000+0000</td><td>login</td><td>user2</td><td>null</td></tr><tr><td>2023-08-29T12:35:00.000+0000</td><td>logout</td><td>user1</td><td>null</td></tr><tr><td>2023-08-30T12:40:00.000+0000</td><td>page_view</td><td>user2</td><td>page999</td></tr><tr><td>2023-09-26T10:15:00.000+0000</td><td>login</td><td>user1</td><td>null</td></tr><tr><td>2023-09-26T10:20:00.000+0000</td><td>logout</td><td>user2</td><td>null</td></tr><tr><td>2023-09-26T10:25:00.000+0000</td><td>page_view</td><td>user1</td><td>page123</td></tr><tr><td>2023-09-26T10:30:00.000+0000</td><td>login</td><td>user3</td><td>null</td></tr><tr><td>2023-09-26T10:35:00.000+0000</td><td>page_view</td><td>user2</td><td>page456</td></tr><tr><td>2023-09-26T10:40:00.000+0000</td><td>logout</td><td>user3</td><td>null</td></tr><tr><td>2023-09-26T10:45:00.000+0000</td><td>page_view</td><td>user1</td><td>page789</td></tr><tr><td>2023-09-26T10:50:00.000+0000</td><td>login</td><td>user2</td><td>null</td></tr><tr><td>2023-09-26T10:55:00.000+0000</td><td>logout</td><td>user1</td><td>null</td></tr><tr><td>2023-09-26T11:00:00.000+0000</td><td>page_view</td><td>user2</td><td>page101</td></tr><tr><td>2023-09-26T11:05:00.000+0000</td><td>login</td><td>user1</td><td>null</td></tr><tr><td>2023-09-26T11:10:00.000+0000</td><td>page_view</td><td>user3</td><td>page222</td></tr></tbody></table></div>"
      ]
     },
     "metadata": {
      "application/vnd.databricks.v1+output": {
       "addedWidgets": {},
       "aggData": [],
       "aggError": "",
       "aggOverflow": false,
       "aggSchema": [],
       "aggSeriesLimitReached": false,
       "aggType": "",
       "arguments": {},
       "columnCustomDisplayInfos": {},
       "data": [
        [
         "2023-07-01T10:15:00.000+0000",
         "login",
         "user1",
         null
        ],
        [
         "2023-07-02T10:20:00.000+0000",
         "logout",
         "user2",
         null
        ],
        [
         "2023-07-03T10:25:00.000+0000",
         "page_view",
         "user1",
         "page123"
        ],
        [
         "2023-07-04T10:30:00.000+0000",
         "login",
         "user3",
         null
        ],
        [
         "2023-07-05T10:35:00.000+0000",
         "page_view",
         "user2",
         "page456"
        ],
        [
         "2023-07-06T10:40:00.000+0000",
         "logout",
         "user3",
         null
        ],
        [
         "2023-07-07T10:45:00.000+0000",
         "page_view",
         "user1",
         "page789"
        ],
        [
         "2023-07-08T10:50:00.000+0000",
         "login",
         "user2",
         null
        ],
        [
         "2023-07-09T10:55:00.000+0000",
         "logout",
         "user1",
         null
        ],
        [
         "2023-07-10T11:00:00.000+0000",
         "page_view",
         "user2",
         "page101"
        ],
        [
         "2023-07-11T11:05:00.000+0000",
         "login",
         "user1",
         null
        ],
        [
         "2023-07-12T11:10:00.000+0000",
         "page_view",
         "user3",
         "page222"
        ],
        [
         "2023-07-13T11:15:00.000+0000",
         "login",
         "user4",
         null
        ],
        [
         "2023-07-14T11:20:00.000+0000",
         "logout",
         "user2",
         null
        ],
        [
         "2023-07-15T11:25:00.000+0000",
         "page_view",
         "user1",
         "page333"
        ],
        [
         "2023-07-16T11:30:00.000+0000",
         "login",
         "user4",
         null
        ],
        [
         "2023-07-17T11:35:00.000+0000",
         "page_view",
         "user2",
         "page444"
        ],
        [
         "2023-07-18T11:40:00.000+0000",
         "logout",
         "user3",
         null
        ],
        [
         "2023-07-19T11:45:00.000+0000",
         "page_view",
         "user1",
         "page555"
        ],
        [
         "2023-07-20T11:50:00.000+0000",
         "login",
         "user2",
         null
        ],
        [
         "2023-07-21T11:55:00.000+0000",
         "logout",
         "user1",
         null
        ],
        [
         "2023-07-22T12:00:00.000+0000",
         "page_view",
         "user2",
         "page666"
        ],
        [
         "2023-07-23T12:05:00.000+0000",
         "login",
         "user1",
         null
        ],
        [
         "2023-07-24T12:10:00.000+0000",
         "page_view",
         "user3",
         "page777"
        ],
        [
         "2023-07-25T12:15:00.000+0000",
         "login",
         "user4",
         null
        ],
        [
         "2023-07-26T12:20:00.000+0000",
         "logout",
         "user2",
         null
        ],
        [
         "2023-07-27T12:25:00.000+0000",
         "page_view",
         "user1",
         "page888"
        ],
        [
         "2023-07-28T12:30:00.000+0000",
         "login",
         "user2",
         null
        ],
        [
         "2023-07-29T12:35:00.000+0000",
         "logout",
         "user1",
         null
        ],
        [
         "2023-07-30T12:40:00.000+0000",
         "page_view",
         "user2",
         "page999"
        ],
        [
         "2023-08-01T10:15:00.000+0000",
         "login",
         "user1",
         null
        ],
        [
         "2023-08-02T10:20:00.000+0000",
         "logout",
         "user2",
         null
        ],
        [
         "2023-08-03T10:25:00.000+0000",
         "page_view",
         "user1",
         "page123"
        ],
        [
         "2023-08-04T10:30:00.000+0000",
         "login",
         "user3",
         null
        ],
        [
         "2023-08-05T10:35:00.000+0000",
         "page_view",
         "user2",
         "page456"
        ],
        [
         "2023-08-06T10:40:00.000+0000",
         "logout",
         "user3",
         null
        ],
        [
         "2023-08-07T10:45:00.000+0000",
         "page_view",
         "user1",
         "page789"
        ],
        [
         "2023-08-08T10:50:00.000+0000",
         "login",
         "user2",
         null
        ],
        [
         "2023-08-09T10:55:00.000+0000",
         "logout",
         "user1",
         null
        ],
        [
         "2023-08-10T11:00:00.000+0000",
         "page_view",
         "user2",
         "page101"
        ],
        [
         "2023-08-11T11:05:00.000+0000",
         "login",
         "user1",
         null
        ],
        [
         "2023-08-12T11:10:00.000+0000",
         "page_view",
         "user3",
         "page222"
        ],
        [
         "2023-08-13T11:15:00.000+0000",
         "login",
         "user4",
         null
        ],
        [
         "2023-08-14T11:20:00.000+0000",
         "logout",
         "user2",
         null
        ],
        [
         "2023-08-15T11:25:00.000+0000",
         "page_view",
         "user1",
         "page333"
        ],
        [
         "2023-08-16T11:30:00.000+0000",
         "login",
         "user4",
         null
        ],
        [
         "2023-08-17T11:35:00.000+0000",
         "page_view",
         "user2",
         "page444"
        ],
        [
         "2023-08-18T11:40:00.000+0000",
         "logout",
         "user3",
         null
        ],
        [
         "2023-08-19T11:45:00.000+0000",
         "page_view",
         "user1",
         "page555"
        ],
        [
         "2023-08-20T11:50:00.000+0000",
         "login",
         "user2",
         null
        ],
        [
         "2023-08-21T11:55:00.000+0000",
         "logout",
         "user1",
         null
        ],
        [
         "2023-08-22T12:00:00.000+0000",
         "page_view",
         "user2",
         "page666"
        ],
        [
         "2023-08-23T12:05:00.000+0000",
         "login",
         "user1",
         null
        ],
        [
         "2023-08-24T12:10:00.000+0000",
         "page_view",
         "user3",
         "page777"
        ],
        [
         "2023-08-25T12:15:00.000+0000",
         "login",
         "user4",
         null
        ],
        [
         "2023-08-26T12:20:00.000+0000",
         "logout",
         "user2",
         null
        ],
        [
         "2023-08-27T12:25:00.000+0000",
         "page_view",
         "user1",
         "page888"
        ],
        [
         "2023-08-28T12:30:00.000+0000",
         "login",
         "user2",
         null
        ],
        [
         "2023-08-29T12:35:00.000+0000",
         "logout",
         "user1",
         null
        ],
        [
         "2023-08-30T12:40:00.000+0000",
         "page_view",
         "user2",
         "page999"
        ],
        [
         "2023-09-26T10:15:00.000+0000",
         "login",
         "user1",
         null
        ],
        [
         "2023-09-26T10:20:00.000+0000",
         "logout",
         "user2",
         null
        ],
        [
         "2023-09-26T10:25:00.000+0000",
         "page_view",
         "user1",
         "page123"
        ],
        [
         "2023-09-26T10:30:00.000+0000",
         "login",
         "user3",
         null
        ],
        [
         "2023-09-26T10:35:00.000+0000",
         "page_view",
         "user2",
         "page456"
        ],
        [
         "2023-09-26T10:40:00.000+0000",
         "logout",
         "user3",
         null
        ],
        [
         "2023-09-26T10:45:00.000+0000",
         "page_view",
         "user1",
         "page789"
        ],
        [
         "2023-09-26T10:50:00.000+0000",
         "login",
         "user2",
         null
        ],
        [
         "2023-09-26T10:55:00.000+0000",
         "logout",
         "user1",
         null
        ],
        [
         "2023-09-26T11:00:00.000+0000",
         "page_view",
         "user2",
         "page101"
        ],
        [
         "2023-09-26T11:05:00.000+0000",
         "login",
         "user1",
         null
        ],
        [
         "2023-09-26T11:10:00.000+0000",
         "page_view",
         "user3",
         "page222"
        ]
       ],
       "datasetInfos": [],
       "dbfsResultPath": null,
       "isJsonSchema": true,
       "metadata": {
        "isDbfsCommandResult": false
       },
       "overflow": false,
       "plotOptions": {
        "customPlotOptions": {},
        "displayType": "table",
        "pivotAggregation": null,
        "pivotColumns": null,
        "xColumns": null,
        "yColumns": null
       },
       "removedWidgets": [],
       "schema": [
        {
         "metadata": "{}",
         "name": "timestamp",
         "type": "\"timestamp\""
        },
        {
         "metadata": "{}",
         "name": "event_type",
         "type": "\"string\""
        },
        {
         "metadata": "{}",
         "name": "user_id",
         "type": "\"string\""
        },
        {
         "metadata": "{}",
         "name": "page_id",
         "type": "\"string\""
        }
       ],
       "type": "table"
      }
     },
     "output_type": "display_data"
    }
   ],
   "source": [
    "df.display()"
   ]
  },
  {
   "cell_type": "code",
   "execution_count": 0,
   "metadata": {
    "application/vnd.databricks.v1+cell": {
     "cellMetadata": {
      "byteLimit": 2048000,
      "rowLimit": 10000
     },
     "inputWidgets": {},
     "nuid": "c29d9c9a-a0c3-450c-9dc9-9c86e0e86761",
     "showTitle": false,
     "title": ""
    }
   },
   "outputs": [],
   "source": [
    "outputstream=\"dbfs:/mnt/saunext/inputfiles/outputstream\""
   ]
  },
  {
   "cell_type": "code",
   "execution_count": 0,
   "metadata": {
    "application/vnd.databricks.v1+cell": {
     "cellMetadata": {
      "byteLimit": 2048000,
      "rowLimit": 10000
     },
     "inputWidgets": {},
     "nuid": "6896a16b-f010-46b4-a2db-b2eeaaf14dfc",
     "showTitle": false,
     "title": ""
    }
   },
   "outputs": [
    {
     "output_type": "execute_result",
     "data": {
      "text/plain": [
       "<pyspark.sql.streaming.query.StreamingQuery at 0x7efd48db4be0>"
      ]
     },
     "execution_count": 12,
     "metadata": {},
     "output_type": "execute_result"
    }
   ],
   "source": [
    "df.writeStream\\\n",
    ".option(\"checkpointlocation\",f\"{outputstream}/naval/checkpoint\")\\\n",
    ".option(\"path\",f\"{outputstream}/OhmOmar/output\")\\\n",
    ".table(\"2609db.jsonsample\")"
   ]
  },
  {
   "cell_type": "code",
   "execution_count": 0,
   "metadata": {
    "application/vnd.databricks.v1+cell": {
     "cellMetadata": {
      "byteLimit": 2048000,
      "rowLimit": 10000
     },
     "inputWidgets": {},
     "nuid": "23924936-63e3-4661-9b04-847f2edbc9de",
     "showTitle": false,
     "title": ""
    }
   },
   "outputs": [],
   "source": [
    "for stream in spark.streams.active:\n",
    "    stream.stop()"
   ]
  },
  {
   "cell_type": "code",
   "execution_count": 0,
   "metadata": {
    "application/vnd.databricks.v1+cell": {
     "cellMetadata": {},
     "inputWidgets": {},
     "nuid": "6aa4d754-a83b-4a60-8a6c-f51c71713d77",
     "showTitle": false,
     "title": ""
    }
   },
   "outputs": [],
   "source": [
    "(spark\n",
    ".readStream\n",
    ".schema(users_sch)\n",
    ".json(\"dbfs:/mnt/saunext/inputfiles/inputstream/\")\n",
    ".writeStream\n",
    ".option(\"checkpointlocation\",f\"{outputstream}/naval/checkpoint\")\n",
    ".option(\"path\",f\"{outputstream}/naval/output\")\n",
    ".trigger(once=True)\n",
    ".table(\"test.jsonsample\")\n",
    ")"
   ]
  }
 ],
 "metadata": {
  "application/vnd.databricks.v1+notebook": {
   "dashboards": [],
   "language": "python",
   "notebookMetadata": {
    "pythonIndentUnit": 4
   },
   "notebookName": "Streaming",
   "widgets": {}
  }
 },
 "nbformat": 4,
 "nbformat_minor": 0
}
